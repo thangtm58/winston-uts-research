{
 "cells": [
  {
   "cell_type": "code",
   "execution_count": 3,
   "id": "50ebd2ae",
   "metadata": {},
   "outputs": [],
   "source": [
    "import matplotlib.pyplot as plt\n",
    "import autograd.numpy as np\n",
    "import autograd.scipy.stats as sps_autograd\n",
    "from autograd import grad, hessian, jacobian\n",
    "from statsmodels.tsa.arima_process import ArmaProcess\n",
    "from scipy.optimize import minimize\n",
    "from scipy.linalg import toeplitz\n",
    "import pandas as pd"
   ]
  },
  {
   "cell_type": "code",
   "execution_count": 69,
   "id": "3f7dd28f",
   "metadata": {},
   "outputs": [],
   "source": [
    "\"\"\"\n",
    "Simulate ARMA(1, 1) model\n",
    "\"\"\"\n",
    "a = 0.5\n",
    "b = 0.2\n",
    "# Define AR and MA coefficients\n",
    "ar = np.array([1, -a])  \n",
    "ma = np.array([1, -b])        \n",
    "\n",
    "# Create ARMA process object\n",
    "arma_process = ArmaProcess(ar, ma)\n",
    "\n",
    "# Simulate 500 samples\n",
    "N = 500\n",
    "y = arma_process.generate_sample(nsample=N, scale=2) # scale is the variance of the white noise"
   ]
  },
  {
   "cell_type": "code",
   "execution_count": 57,
   "id": "73b4d04e",
   "metadata": {},
   "outputs": [
    {
     "data": {
      "text/plain": [
       "(2, 1)"
      ]
     },
     "execution_count": 57,
     "metadata": {},
     "output_type": "execute_result"
    }
   ],
   "source": [
    "G = np.array([[1.0], [-b]])\n",
    "G.shape"
   ]
  },
  {
   "cell_type": "code",
   "execution_count": 58,
   "id": "333ffc04",
   "metadata": {},
   "outputs": [
    {
     "data": {
      "text/plain": [
       "(2, 2, 1)"
      ]
     },
     "execution_count": 58,
     "metadata": {},
     "output_type": "execute_result"
    }
   ],
   "source": [
    "dG = np.array([\n",
    "        [[0], [0]],  # First parameter (AR coefficient)\n",
    "        [[0], [-1.0]]   # Second parameter (MA coefficient)\n",
    "        ])\n",
    "dG.shape"
   ]
  },
  {
   "cell_type": "code",
   "execution_count": 65,
   "id": "6b8cbcbe",
   "metadata": {},
   "outputs": [],
   "source": [
    "Q = np.eye(2)"
   ]
  },
  {
   "cell_type": "code",
   "execution_count": 67,
   "id": "90fee5ee",
   "metadata": {},
   "outputs": [
    {
     "data": {
      "text/plain": [
       "array([0. , 0.2])"
      ]
     },
     "execution_count": 67,
     "metadata": {},
     "output_type": "execute_result"
    }
   ],
   "source": [
    "np.einsum('ij,jk,pkm->pim', G.T, Q, dG).squeeze()"
   ]
  },
  {
   "cell_type": "code",
   "execution_count": 153,
   "id": "f18ec7aa",
   "metadata": {},
   "outputs": [
    {
     "data": {
      "text/plain": [
       "array([[[0. ]],\n",
       "\n",
       "       [[0.2]]])"
      ]
     },
     "execution_count": 153,
     "metadata": {},
     "output_type": "execute_result"
    }
   ],
   "source": [
    "G.T @ Q @ dG"
   ]
  },
  {
   "cell_type": "code",
   "execution_count": 154,
   "id": "e9d61a8f",
   "metadata": {},
   "outputs": [
    {
     "data": {
      "text/plain": [
       "array([[[ 0. ,  0. ],\n",
       "        [ 0. ,  0. ]],\n",
       "\n",
       "       [[ 0. , -1. ],\n",
       "        [ 0. ,  0.2]]])"
      ]
     },
     "execution_count": 154,
     "metadata": {},
     "output_type": "execute_result"
    }
   ],
   "source": [
    "np.array([G @ dG.T[0][i].reshape(1,2) for i in range(2)])"
   ]
  },
  {
   "cell_type": "code",
   "execution_count": 70,
   "id": "ac6efedc",
   "metadata": {},
   "outputs": [],
   "source": [
    "def analytical_grad_hess(theta, init_sigma2):\n",
    "    a, b = theta\n",
    "    k = 2\n",
    "    sigma2 = init_sigma2  # CHANGE PARAMETER HERE\n",
    "\n",
    "    # Simple operations that autograd can handle\n",
    "    F = np.array([[a, 1.0], [0.0, 0.0]])\n",
    "    G = np.array([[1.0], [-b]])\n",
    "    H = np.array([[1.0, 0.0]])\n",
    "    Q = np.array([np.eye(k), np.eye(k)]).reshape(2,2,2)\n",
    "    dF = np.array([\n",
    "        [[1, 0], [0, 0]],  # First parameter (AR coefficient)\n",
    "        [[0, 0], [0, 0]]   # Second parameter (MA coefficient)\n",
    "        ])\n",
    "    dF.reshape(2, 2, 2)\n",
    "    dG = np.array([\n",
    "        [[0], [0]],  # First parameter (AR coefficient)\n",
    "        [[0], [-1.0]]   # Second parameter (MA coefficient)\n",
    "        ])\n",
    "    dG.reshape(2, 2, 1)\n",
    "\n",
    "    g = np.array([1.0, a - b, a * (a - b)])\n",
    "\n",
    "    C = np.array([\n",
    "        sigma2 * (1 - 2 * a * b + b**2) / (1 - a**2),\n",
    "        a * (sigma2 * (1 - 2 * a * b + b**2) / (1 - a**2)) - sigma2 * b,\n",
    "        a * (a * (sigma2 * (1 - 2 * a * b + b**2) / (1 - a**2)) - sigma2 * b)\n",
    "    ])\n",
    "\n",
    "    V = np.array([\n",
    "        [C[0], -b * g[0]],\n",
    "        [-b * g[0], b**2 * sigma2]\n",
    "    ])\n",
    "\n",
    "    dV = np.array([\n",
    "        [[(2 * sigma2 * (a-b) * (1 - a*b)) / (1 - a**2)**2, 0],\n",
    "        [0, 0]],\n",
    "        [[2 * sigma2 * (b-a) / (1 - a**2), -1],\n",
    "        [-1, 2 * b * sigma2]]\n",
    "    ])\n",
    "\n",
    "    # Initialize the x and dx\n",
    "    x = np.zeros((k, 1))\n",
    "    dx = np.zeros((2, 2, 1))\n",
    "\n",
    "    # Dictionary to store the values\n",
    "    dict = {\n",
    "        'analytical_grad_at_i': [],\n",
    "        'log_likelihood_at_i': [],\n",
    "    }\n",
    "\n",
    "    # Initialize the values\n",
    "    sigma2_hat_sum = 0.0\n",
    "    dsigma2_hat_sum = np.array([[0.0], [0.0]]).reshape(2, 1, 1)\n",
    "    log_r_sum = 0.0\n",
    "\n",
    "\n",
    "    # Run the Kalman filter for gradient\n",
    "    for t in range(N):\n",
    "        # Set the current sample size\n",
    "        n = t + 1\n",
    "        \n",
    "\n",
    "        # 1. Predict\n",
    "        # Predict one-step-ahead state predictive density of x_{t}\n",
    "        x_predict = F @ x\n",
    "        V_predict = F @ V @ F.T + G @ G.T\n",
    "\n",
    "        # Compute forecast error and one-step-ahead predictive variance\n",
    "        e_t = y[t] - (H @ x_predict)[0, 0]\n",
    "        r_t = (H @ V_predict @ H.T)[0, 0]\n",
    "\n",
    "        GdGT = np.array([G @ dG.T[0][i].reshape(1,2) for i in range(2)])\n",
    "\n",
    "        # Kalman filter for gradient\n",
    "        dx_predict = F @ dx + dF @ x\n",
    "        dV_predict = F @ dV @ F.T + dF @ V @ F.T + F @ V @ dF.T + dG @ G.T + GdGT\n",
    "        # dV_predict = F @ dV @ F.T + dF @ V @ F.T + F @ V @ dF.T + dG @ G.T + G @ Q @ dG.T\n",
    "\n",
    "\n",
    "        # Calculate de_t and dr_t as tensor(2,1,1)\n",
    "        de_t = -H @ dx_predict\n",
    "        dr_t = H @ dV_predict @ H.T\n",
    "\n",
    "        # Update sigma2 hat and gradient of sigma2 hat\n",
    "        sigma2_hat_sum += e_t**2 / r_t\n",
    "        sigma2_hat = sigma2_hat_sum / n\n",
    "        dsigma2_hat_sum += (2 * e_t * de_t) /r_t - (e_t**2 * dr_t) / (r_t**2)\n",
    "        dsigma2_hat = dsigma2_hat_sum / n\n",
    "\n",
    "        # Update the r\n",
    "        log_r_sum += np.log(r_t)\n",
    "\n",
    "        # 2. Update\n",
    "        # Kalman gain\n",
    "        K = V_predict @ H.T / r_t\n",
    "\n",
    "        # Update current state and covariance\n",
    "        x = x_predict + K * e_t\n",
    "        V = (np.eye(k) - K @ H) @ V_predict\n",
    "\n",
    "        dK = (dV_predict @ H.T / r_t) - (V_predict @ H.T / r_t**2) @ dr_t\n",
    "        dx = dx_predict + K @ de_t + dK * e_t\n",
    "        dV = dV_predict - dK @ H @ V_predict - K @ H @ dV_predict\n",
    "        \n",
    "        # Compute sigma2_hat and gradient of the log-likelihood\n",
    "        log_likelihood_at_i = -0.5 * (np.log(2 * np.pi) \n",
    "                                + np.log(sigma2_hat) \n",
    "                                + np.log(r_t) + e_t**2 / (r_t * sigma2_hat))  \n",
    "        \n",
    "        \"\"\"\n",
    "        analytical_grad = - (e_t * de_t) / (sigma2_hat * r_t) \\\n",
    "                                + (e_t**2 * dr_t) / (2 * sigma2_hat * r_t**2) \\\n",
    "                                - dr_t / (2 * r_t)\n",
    "        \"\"\"\n",
    "        \n",
    "        analytical_grad_at_i = - 0.5 * (dsigma2_hat / sigma2_hat \n",
    "                                    + dr_t / r_t \n",
    "                                    + (2 * e_t * sigma2_hat * r_t * de_t - e_t**2 * r_t * dsigma2_hat - e_t**2 * sigma2_hat * dr_t) / (sigma2_hat**2 * r_t**2)\n",
    "                                    )\n",
    "        \n",
    "\n",
    "        dict['analytical_grad_at_i'].append(analytical_grad_at_i.flatten())\n",
    "        dict['log_likelihood_at_i'].append(log_likelihood_at_i)\n",
    "\n",
    "    log_likelihood = -0.5 * (N * np.log(2 * np.pi) \n",
    "                            + N * np.log(sigma2_hat) \n",
    "                            # + np.sum(np.log(r)) + N)\n",
    "                            + log_r_sum + N)\n",
    "\n",
    "    # Return the dictionary\n",
    "    return dict, sigma2_hat, log_likelihood\n",
    "\n"
   ]
  },
  {
   "cell_type": "code",
   "execution_count": 83,
   "id": "e6e116bd",
   "metadata": {},
   "outputs": [
    {
     "name": "stdout",
     "output_type": "stream",
     "text": [
      "True\n"
     ]
    },
    {
     "data": {
      "text/html": [
       "<div>\n",
       "<style scoped>\n",
       "    .dataframe tbody tr th:only-of-type {\n",
       "        vertical-align: middle;\n",
       "    }\n",
       "\n",
       "    .dataframe tbody tr th {\n",
       "        vertical-align: top;\n",
       "    }\n",
       "\n",
       "    .dataframe thead th {\n",
       "        text-align: right;\n",
       "    }\n",
       "</style>\n",
       "<table border=\"1\" class=\"dataframe\">\n",
       "  <thead>\n",
       "    <tr style=\"text-align: right;\">\n",
       "      <th></th>\n",
       "      <th>t</th>\n",
       "      <th>analytical_hess</th>\n",
       "      <th>auto_hess</th>\n",
       "      <th>equal</th>\n",
       "    </tr>\n",
       "  </thead>\n",
       "  <tbody>\n",
       "    <tr>\n",
       "      <th>495</th>\n",
       "      <td>495</td>\n",
       "      <td>[[-2.9182139732028833, 2.8929434286661366], [2...</td>\n",
       "      <td>[[-2.9182139732028842, 2.892943428666137], [2....</td>\n",
       "      <td>True</td>\n",
       "    </tr>\n",
       "    <tr>\n",
       "      <th>496</th>\n",
       "      <td>496</td>\n",
       "      <td>[[-0.254009866273028, -0.22462574246159306], [...</td>\n",
       "      <td>[[-0.2540098662730281, -0.22462574246159284], ...</td>\n",
       "      <td>True</td>\n",
       "    </tr>\n",
       "    <tr>\n",
       "      <th>497</th>\n",
       "      <td>497</td>\n",
       "      <td>[[-0.43955582108696656, 0.6618143957326654], [...</td>\n",
       "      <td>[[-0.4395558210869665, 0.6618143957326653], [0...</td>\n",
       "      <td>True</td>\n",
       "    </tr>\n",
       "    <tr>\n",
       "      <th>498</th>\n",
       "      <td>498</td>\n",
       "      <td>[[-0.3541593143505924, 0.7029537083438545], [0...</td>\n",
       "      <td>[[-0.35415931435059234, 0.7029537083438546], [...</td>\n",
       "      <td>True</td>\n",
       "    </tr>\n",
       "    <tr>\n",
       "      <th>499</th>\n",
       "      <td>499</td>\n",
       "      <td>[[-0.46530375560426396, 0.6950901808635416], [...</td>\n",
       "      <td>[[-0.46530375560426385, 0.6950901808635416], [...</td>\n",
       "      <td>True</td>\n",
       "    </tr>\n",
       "  </tbody>\n",
       "</table>\n",
       "</div>"
      ],
      "text/plain": [
       "       t                                    analytical_hess  \\\n",
       "495  495  [[-2.9182139732028833, 2.8929434286661366], [2...   \n",
       "496  496  [[-0.254009866273028, -0.22462574246159306], [...   \n",
       "497  497  [[-0.43955582108696656, 0.6618143957326654], [...   \n",
       "498  498  [[-0.3541593143505924, 0.7029537083438545], [0...   \n",
       "499  499  [[-0.46530375560426396, 0.6950901808635416], [...   \n",
       "\n",
       "                                             auto_hess equal  \n",
       "495  [[-2.9182139732028842, 2.892943428666137], [2....  True  \n",
       "496  [[-0.2540098662730281, -0.22462574246159284], ...  True  \n",
       "497  [[-0.4395558210869665, 0.6618143957326653], [0...  True  \n",
       "498  [[-0.35415931435059234, 0.7029537083438546], [...  True  \n",
       "499  [[-0.46530375560426385, 0.6950901808635416], [...  True  "
      ]
     },
     "execution_count": 83,
     "metadata": {},
     "output_type": "execute_result"
    }
   ],
   "source": [
    "# Initialize the parameters\n",
    "theta = np.array([-0.2, 0.1])\n",
    "init_sigma2 = 0.5\n",
    "\n",
    "# Dataframe to store the results\n",
    "df = pd.DataFrame(columns=['t', 'analytical_hess', 'auto_hess', 'equal'])\n",
    "\n",
    "for t in range(N):\n",
    "    # Analytical gradient\n",
    "    obj_func_gradient = lambda param: analytical_grad_hess(param, init_sigma2)[0]['analytical_grad_at_i'][t]\n",
    "    jacobian_obj_func_gradient = jacobian(obj_func_gradient)\n",
    "    auto_jacobian_val = jacobian_obj_func_gradient(theta)\n",
    "\n",
    "    # Auto Hessian\n",
    "    obj_func_likelihood = lambda param: analytical_grad_hess(param, init_sigma2)[0]['log_likelihood_at_i'][t]\n",
    "    hess_obj_func_likelihood = hessian(obj_func_likelihood)\n",
    "    auto_hess_val = hess_obj_func_likelihood(theta)\n",
    "\n",
    "    # Store the results\n",
    "    df.loc[t, 't'] = t\n",
    "    df.loc[t, 'analytical_hess'] = auto_jacobian_val\n",
    "    df.loc[t, 'auto_hess'] = auto_hess_val\n",
    "    df.loc[t, 'equal'] = np.allclose(auto_jacobian_val, auto_hess_val)\n",
    "\n",
    "# Check the results\n",
    "print(sum(df['equal']) == N)\n",
    "df.tail()\n"
   ]
  },
  {
   "cell_type": "markdown",
   "id": "38b26f43",
   "metadata": {},
   "source": [
    "# Control variates"
   ]
  },
  {
   "cell_type": "code",
   "execution_count": 71,
   "id": "b4cd4e86",
   "metadata": {},
   "outputs": [],
   "source": [
    "def initiate_control_variate_quantities(thetaStar, init_sigma2=0.5):\n",
    "    \"\"\"\n",
    "    Creates the quantities needed to construct the second order parameter expanded Taylor control variates for the log_density.\n",
    "    Output from this function will go into the function eval_q_k\n",
    "    \"\"\"\n",
    "    n = len(y)\n",
    "    p = len(thetaStar)\n",
    "\n",
    "    # Run the Kalman filter for gradient\n",
    "    analytical_grad_hess_result = analytical_grad_hess(thetaStar, init_sigma2)\n",
    "    # dens_at_thetaStar = analytical_grad_hess_result[2]\n",
    "    dens_at_thetaStar = analytical_grad_hess_result[0]['log_likelihood_at_i']\n",
    "    grad_dens = analytical_grad_hess_result[0]['analytical_grad_at_i']\n",
    "    grad_at_thetaStar = np.zeros([n, p])\n",
    "    Hess_at_thetaStar = np.zeros([n, p, p])\n",
    "    \n",
    "    for i in range(n):    \n",
    "        if i % 100 == 0:\n",
    "            print(\"Processed %s observations (out of % s)\" % (i, n))\n",
    "\n",
    "\n",
    "        # Run the analytical gradient and hessian\n",
    "        obj_grad_dens = lambda param: analytical_grad_hess(param, init_sigma2)[0]['analytical_grad_at_i'][i]\n",
    "        Hess_dens = jacobian(obj_grad_dens)\n",
    "\n",
    "        grad_at_thetaStar[i, :], Hess_at_thetaStar[i, :] = grad_dens[i], Hess_dens(thetaStar)\n",
    "                    \n",
    "    return dens_at_thetaStar, grad_at_thetaStar, Hess_at_thetaStar"
   ]
  },
  {
   "cell_type": "code",
   "execution_count": 82,
   "id": "aaefabb4",
   "metadata": {},
   "outputs": [
    {
     "name": "stdout",
     "output_type": "stream",
     "text": [
      "Optimization terminated successfully.\n",
      "         Current function value: -9197.039619\n",
      "         Iterations: 22\n",
      "         Function evaluations: 111\n",
      "         Gradient evaluations: 37\n"
     ]
    },
    {
     "name": "stderr",
     "output_type": "stream",
     "text": [
      "/Users/thangtm589/Desktop/study/UTS/35112 Mathematical Research/winston-uts-research/venv/lib/python3.9/site-packages/autograd/tracer.py:54: RuntimeWarning: invalid value encountered in log\n",
      "  return f_raw(*args, **kwargs)\n"
     ]
    },
    {
     "data": {
      "text/plain": [
       "array([10989660.67781764, -3305134.7093363 ])"
      ]
     },
     "execution_count": 82,
     "metadata": {},
     "output_type": "execute_result"
    }
   ],
   "source": [
    "theta_optim_start = np.array([a, b])\n",
    "obj_func_posterior = lambda param: analytical_grad_hess(param, init_sigma2=0.5)[2]\n",
    "grad_obj_func_posterior = lambda param: analytical_grad_hess(param, init_sigma2=0.5)[0]['analytical_grad_at_i'][N-1]\n",
    "\n",
    "res_optim_posterior = minimize(obj_func_posterior, \n",
    "                                theta_optim_start, \n",
    "                                method='BFGS', \n",
    "                                # jac=grad_obj_func_posterior, \n",
    "                                options={'gtol': 1e-04, 'maxiter': 1000, 'disp': True})\n",
    "res_optim_posterior.x"
   ]
  },
  {
   "cell_type": "code",
   "execution_count": 143,
   "id": "694661e3",
   "metadata": {},
   "outputs": [
    {
     "name": "stdout",
     "output_type": "stream",
     "text": [
      "Processed 0 observations (out of 500)\n",
      "Processed 100 observations (out of 500)\n",
      "Processed 200 observations (out of 500)\n",
      "Processed 300 observations (out of 500)\n",
      "Processed 400 observations (out of 500)\n"
     ]
    }
   ],
   "source": [
    "thetaStar = np.array([-a-0.001, -b+0.001])\n",
    "dens_at_thetaStar_Poisson, grad_at_thetaStar_Poisson, Hess_at_thetaStar_Poisson = initiate_control_variate_quantities(thetaStar, init_sigma2)"
   ]
  },
  {
   "cell_type": "code",
   "execution_count": 73,
   "id": "7e754c3a",
   "metadata": {},
   "outputs": [],
   "source": [
    "def eval_q_k(theta, dens_at_thetaStar, grad_at_thetaStar, Hess_at_thetaStar, order = 2):\n",
    "    \"\"\"\n",
    "    Evaluates the order order parameter expanded Taylor control variates at the point theta for all observations in \n",
    "    dens_at_thetaStar, grad_at_thetaStar, Hess_at_thetaStar. Default order is 2.\n",
    "    \"\"\"\n",
    "    const_term = dens_at_thetaStar\n",
    "    if order == 0:\n",
    "        q_k = const_term\n",
    "    elif order == 1:\n",
    "        first_term = np.sum(grad_at_thetaStar*(theta - thetaStar), axis = 1)\n",
    "        q_k = const_term + first_term\n",
    "    elif order == 2:\n",
    "        first_term = np.sum(grad_at_thetaStar*(theta - thetaStar), axis = 1)\n",
    "        second_term = 0.5*np.sum(np.sum(Hess_at_thetaStar*np.outer(theta - thetaStar, theta - thetaStar), axis = 1), axis = 1)    \n",
    "        q_k = const_term + first_term + second_term\n",
    "    else:\n",
    "        raise ValueError(\"Order must be 0 <= order <= 2\")\n",
    "    return q_k"
   ]
  },
  {
   "cell_type": "code",
   "execution_count": 76,
   "id": "92a3d58f",
   "metadata": {},
   "outputs": [],
   "source": [
    "test_sigma = np.array([[0.1, 0.05], [0.05, 0.1]])"
   ]
  },
  {
   "cell_type": "code",
   "execution_count": 148,
   "id": "fe1ca39d",
   "metadata": {},
   "outputs": [
    {
     "data": {
      "image/png": "[encoded data removed]",
      "text/plain": [
       "<Figure size 640x480 with 3 Axes>"
      ]
     },
     "metadata": {},
     "output_type": "display_data"
    }
   ],
   "source": [
    "dens_at_thetaStar, grad_at_thetaStar, Hess_at_thetaStar = dens_at_thetaStar_Poisson, grad_at_thetaStar_Poisson, Hess_at_thetaStar_Poisson\n",
    "theta = np.random.multivariate_normal(thetaStar, test_sigma, size = 1).flatten()\n",
    "q_k_order0 = eval_q_k(theta, dens_at_thetaStar, grad_at_thetaStar, Hess_at_thetaStar, order = 0) \n",
    "q_k_order1 = eval_q_k(theta, dens_at_thetaStar, grad_at_thetaStar, Hess_at_thetaStar, order = 1) \n",
    "q_k_order2 = eval_q_k(theta, dens_at_thetaStar, grad_at_thetaStar, Hess_at_thetaStar, order = 2) \n",
    "l_k = analytical_grad_hess(theta, init_sigma2=0.5)[0]['log_likelihood_at_i']\n",
    "fig, axs = plt.subplots(1, 3)\n",
    "fig.suptitle(\n",
    "    r'Control variate at $\\theta$ such that $||\\theta - \\theta^\\star|| = %3.4f$' \n",
    "    % np.linalg.norm(theta - thetaStar)\n",
    "    + \"\\nSample size = %s\" % N,\n",
    "    size=14,\n",
    "    y = 1.02\n",
    ")\n",
    "# fig.subplots_adjust(top=0.2)\n",
    "\n",
    "for k in range(3):\n",
    "        axs[k].plot(l_k, l_k, color = 'red')\n",
    "        if k == 0:\n",
    "            axs[k].plot(l_k, q_k_order0, '.', color = 'blue')\n",
    "            axs[k].set_title('Order 0', size = 12)\n",
    "        elif k == 1:\n",
    "            axs[k].plot(l_k, q_k_order1, '.', color = 'blue')\n",
    "            axs[k].set_title('Order 1', size = 12)\n",
    "        elif k == 2:\n",
    "            axs[k].plot(l_k, q_k_order2, '.', color = 'blue')\n",
    "            axs[k].set_title('Order 2', size = 12)\n",
    "            \n",
    "        axs[k].axis('scaled')\n",
    "\n",
    "fig.subplots_adjust(top=1.2)\n",
    "plt.show()"
   ]
  }
 ],
 "metadata": {
  "kernelspec": {
   "display_name": "venv",
   "language": "python",
   "name": "python3"
  },
  "language_info": {
   "codemirror_mode": {
    "name": "ipython",
    "version": 3
   },
   "file_extension": ".py",
   "mimetype": "text/x-python",
   "name": "python",
   "nbconvert_exporter": "python",
   "pygments_lexer": "ipython3",
   "version": "3.9.6"
  }
 },
 "nbformat": 4,
 "nbformat_minor": 5
}
