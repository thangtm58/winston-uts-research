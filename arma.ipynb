{
 "cells": [
  {
   "cell_type": "code",
   "execution_count": 16,
   "metadata": {},
   "outputs": [],
   "source": [
    "import matplotlib, time, copy\n",
    "import matplotlib.pyplot as plt\n",
    "import autograd.numpy as np\n",
    "import autograd.scipy.stats as sps_autograd\n",
    "from autograd import grad, hessian\n",
    "from statsmodels.tsa.arima_process import ArmaProcess\n",
    "from scipy.optimize import minimize\n",
    "from scipy.linalg import toeplitz"
   ]
  },
  {
   "cell_type": "markdown",
   "metadata": {},
   "source": [
    "# Simulate ARMA data "
   ]
  },
  {
   "cell_type": "code",
   "execution_count": 17,
   "metadata": {},
   "outputs": [],
   "source": [
    "\"\"\"\n",
    "Simulate ARMA(1, 1) model\n",
    "\"\"\"\n",
    "\n",
    "# Define AR and MA coefficients\n",
    "ar = np.array([1, -0.5])  \n",
    "ma = np.array([1, 0.4])        \n",
    "\n",
    "# Create ARMA process object\n",
    "arma_process = ArmaProcess(ar, ma)\n",
    "\n",
    "# Simulate 10000 samples\n",
    "N = 1000\n",
    "y = arma_process.generate_sample(nsample=N)"
   ]
  },
  {
   "cell_type": "markdown",
   "metadata": {},
   "source": [
    "# Karman Filter "
   ]
  },
  {
   "cell_type": "code",
   "execution_count": 18,
   "metadata": {},
   "outputs": [],
   "source": [
    "def initialize_FGHQ(a, b):\n",
    "    \"\"\"\n",
    "    Construct the state-space matrices F, G, H for an ARMA(p, q) model.\n",
    "\n",
    "    Parameters:\n",
    "    - p: int, order of the AR component\n",
    "    - q: int, order of the MA component\n",
    "    - a: list or np.array of AR coefficients [a1, a2, ..., ap]\n",
    "    - b: list or np.array of MA coefficients [b1, b2, ..., bq]\n",
    "\n",
    "    Returns:\n",
    "    - F: state transition matrix of shape (k, k)\n",
    "    - G: noise coefficient matrix of shape (k, 1)\n",
    "    - H: observation matrix of shape (1, k)\n",
    "    - Q: covariance identity matrix of shape (k, k)\n",
    "    \"\"\"\n",
    "    p = len(a)\n",
    "    q = len(b)\n",
    "    k = max(p, q + 1)  # dimension of the state vector\n",
    "    F = np.zeros((k, k))\n",
    "    G = np.zeros((k, 1))\n",
    "    H = np.zeros((1, k))\n",
    "\n",
    "    # Fill the first column of F with AR coefficients\n",
    "    for i in range(p):\n",
    "        F[i, 0] = a[i]\n",
    "\n",
    "    # Fill the lower subdiagonal of F with 1s (shifting the state)\n",
    "    for i in range(k - 1):\n",
    "        F[i, i + 1] = 1\n",
    "\n",
    "    # Fill G with negative MA coefficients, first element = 1\n",
    "    for i in range(q):\n",
    "        G[i+1, 0] = -b[i]\n",
    "    G[0, 0] = 1  # first element always set to 1\n",
    "\n",
    "    # Matrix H: only first element is 1\n",
    "    H[0, 0] = 1\n",
    "\n",
    "    # Initialize covariance matrix Q as identity matrix\n",
    "    Q = np.eye(k)\n",
    "\n",
    "    return F, G, H, Q"
   ]
  },
  {
   "cell_type": "code",
   "execution_count": 19,
   "metadata": {},
   "outputs": [],
   "source": [
    "def log_likelihood(sigma2_hat, r):\n",
    "    N = len(r)\n",
    "    return -0.5 * (N * np.log(2 * np.pi) \n",
    "                   + N * np.log(sigma2_hat) \n",
    "                   + np.sum(np.log(r)) + N)"
   ]
  },
  {
   "cell_type": "code",
   "execution_count": 20,
   "metadata": {},
   "outputs": [],
   "source": [
    "def karman_filter_arma(theta):\n",
    "    p = 1   # AR order\n",
    "    q = 1   # MA order\n",
    "    a = theta[:p]\n",
    "    b = theta[p:p+q]\n",
    "    k = max(p, q + 1)\n",
    "    \n",
    "    F, G, H, Q = initialize_FGHQ(a, b)\n",
    "\n",
    "    # Initialize values\n",
    "    x = np.zeros((k, 1))\n",
    "    V = np.eye(k) * 100\n",
    "    e = np.zeros((N, 1))\n",
    "    r = np.zeros((N, 1))\n",
    "\n",
    "    # Implement Kalman filter\n",
    "    for t in range(N):\n",
    "        # Predict one-step-ahead state predictive density of x_{t}\n",
    "        x_predict = F @ x\n",
    "        V_predict = F @ V @ F.T + G @ G.T\n",
    "\n",
    "        # Compute forecast error and one-step-ahead predictive variance\n",
    "        e[t] = y[t] - (H @ x_predict).item()\n",
    "        r[t] = (H @ V_predict @ H.T).item()\n",
    "\n",
    "        # Kalman gain\n",
    "        K = V_predict @ H.T / r[t]\n",
    "\n",
    "        # Update current state and covariance\n",
    "        x = x_predict + K * e[t]\n",
    "        V = (np.eye(k) - K @ H) @ V_predict\n",
    "\n",
    "    sigma2_hat = np.sum(e**2 / r) / N\n",
    "\n",
    "    return sigma2_hat, r"
   ]
  },
  {
   "cell_type": "code",
   "execution_count": 21,
   "metadata": {},
   "outputs": [],
   "source": [
    "def obj_func_likelihood(theta):\n",
    "    sigma2_hat, r = karman_filter_arma(theta)\n",
    "    log_lik = log_likelihood(sigma2_hat, r)\n",
    "\n",
    "    return -log_lik  "
   ]
  },
  {
   "cell_type": "code",
   "execution_count": 22,
   "metadata": {},
   "outputs": [
    {
     "name": "stdout",
     "output_type": "stream",
     "text": [
      "Estimated parameters: [ 0.49743377 -0.39634635]\n",
      "Negative log-likelihood: 141605.20910991152\n"
     ]
    }
   ],
   "source": [
    "\"\"\"\n",
    "Test the log-likelihood function\n",
    "\"\"\"\n",
    "\n",
    "theta_start = [0.1, 0.1]\n",
    "\n",
    "# Minimize negative log-likelihood\n",
    "result = minimize(obj_func_likelihood, theta_start, method='BFGS')\n",
    "\n",
    "# Print results\n",
    "print(\"Estimated parameters:\", result.x)\n",
    "print(\"Negative log-likelihood:\", result.fun)"
   ]
  },
  {
   "cell_type": "markdown",
   "metadata": {},
   "source": [
    "# Test algorithm"
   ]
  },
  {
   "cell_type": "code",
   "execution_count": null,
   "metadata": {},
   "outputs": [],
   "source": [
    "def initialize_FGHQ(a, b):\n",
    "    \"\"\"\n",
    "    Construct the state-space matrices F, G, H for an ARMA(p, q) model.\n",
    "\n",
    "    Parameters:\n",
    "    - p: int, order of the AR component\n",
    "    - q: int, order of the MA component\n",
    "    - a: list or np.array of AR coefficients [a1, a2, ..., ap]\n",
    "    - b: list or np.array of MA coefficients [b1, b2, ..., bq]\n",
    "    - l: int, total number of parameters\n",
    "\n",
    "    Returns:\n",
    "    - F: state transition matrix of shape (k, k)\n",
    "    - G: noise coefficient matrix of shape (k, 1)\n",
    "    - H: observation matrix of shape (1, k)\n",
    "    - Q: covariance identity matrix of shape (k, k)\n",
    "    - dF_dtheta: derivative of F with respect to theta of shape (l, k, k)\n",
    "    - dG_dtheta: derivative of G with respect to theta of shape (l, k, 1)\n",
    "    \"\"\"\n",
    "    p = len(a)\n",
    "    q = len(b)\n",
    "    k = max(p, q + 1)  # dimension of the state vector\n",
    "    F = np.zeros((k, k))\n",
    "    G = np.zeros((k, 1))\n",
    "    H = np.zeros((1, k))\n",
    "\n",
    "    # Fill the first column of F with AR coefficients\n",
    "    for i in range(p):\n",
    "        F[i, 0] = a[i]\n",
    "\n",
    "    # Fill the lower subdiagonal of F with 1s (shifting the state)\n",
    "    for i in range(k - 1):\n",
    "        F[i, i + 1] = 1\n",
    "\n",
    "    # Fill G with negative MA coefficients, first element = 1\n",
    "    for i in range(q):\n",
    "        G[i+1, 0] = -b[i]\n",
    "    G[0, 0] = 1  # first element always set to 1\n",
    "\n",
    "    # Matrix H: only first element is 1\n",
    "    H[0, 0] = 1\n",
    "\n",
    "    # Initialize covariance matrix Q as identity matrix\n",
    "    Q = np.eye(k)\n",
    "\n",
    "    # Compute derivatives of F and G with respect to theta\n",
    "    dF_dtheta = np.zeros((k, k, k))\n",
    "    dF_dtheta[0, 0, 0] = 1 # ARMA(1,1)\n",
    "\n",
    "    dG_dtheta = np.zeros((k, k, 1))\n",
    "    dG_dtheta[1, 1, 0] = -1 # ARMA(1,1)\n",
    "\n",
    "    dGT_dtheta = np.zeros((k, 1, k))\n",
    "    dGT_dtheta[1, 0, 1] = -1 # ARMA(1,1)\n",
    "\n",
    "    return F, G, H, Q, dF_dtheta, dG_dtheta, dGT_dtheta "
   ]
  },
  {
   "cell_type": "code",
   "execution_count": null,
   "metadata": {},
   "outputs": [],
   "source": [
    "def compute_initial_V_and_dV(a, b, sigma2):\n",
    "    \"\"\"\n",
    "    Tính toán V ban đầu và dV/d(theta) ban đầu.\n",
    "    Thực thi các phương trình từ mục 3.3.2 của tài liệu.\n",
    "    \"\"\"\n",
    "    p, q = 1, 1\n",
    "    k = max(p, q + 1)  \n",
    "\n",
    "    # 1. Tính hàm đáp ứng xung g_k (Eq. 52)\n",
    "    g = np.zeros(k)\n",
    "    g[0] = 1.0\n",
    "    g[1] = a - b\n",
    "    g[2] = a * g[1]\n",
    "\n",
    "    C = np.zeros(k + q)\n",
    "    C[0] = sigma2 * (1 - 2 * a * b + b**2) / (1 - a**2)\n",
    "    C[1] = a * C[0] - sigma2 * b\n",
    "    C[2] = a * C[1]\n",
    "\n",
    "    V = np.zeros((k, k))\n",
    "    V[0, 0] = C[0]\n",
    "    V[0, 1] = V[1, 0] = - b * g[0]\n",
    "    V[1, 1] = b**2 * sigma2\n",
    "\n",
    "    dV_dtheta = np.zeros((k, k, k))\n",
    "    dV_dtheta[0, 0, 0] = (2 * sigma2 * (a-b) * (1 - a*b)) / (1 - a**2)**2\n",
    "    dV_dtheta[0, 0, 1] = 0\n",
    "    dV_dtheta[0, 1, 0] = 0\n",
    "    dV_dtheta[0, 1, 1] = 0\n",
    "    dV_dtheta[1, 0, 0] = 2 * sigma2 * (b-a) / (1 - a**2)\n",
    "    dV_dtheta[1, 0, 1] = -1\n",
    "    dV_dtheta[1, 1, 0] = -1\n",
    "    dV_dtheta[1, 1, 1] = 2 * b * sigma2\n",
    "\n",
    "    return V, dV_dtheta"
   ]
  },
  {
   "cell_type": "code",
   "execution_count": null,
   "metadata": {},
   "outputs": [],
   "source": [
    "def grad_obj_func_likelihood(theta):\n",
    "    \"\"\"\n",
    "    Implement the gradient of the log-likelihood function for ARMA(1,1) model.\n",
    "    \"\"\"\n",
    "    \n",
    "    a = theta[0]\n",
    "    b = theta[1]\n",
    "    k = 2\n",
    "\n",
    "    # Initialize the state-space matrices\n",
    "    F, G, H, Q, dF_dtheta, dG_dtheta, dGT_dtheta = initialize_FGHQ([a], [b])\n",
    "    \n",
    "    # Initialize the x and V matrices\n",
    "    V, dV_dtheta = compute_initial_V_and_dV(a, b, 1)\n",
    "    x = np.zeros((k, 1))\n",
    "    dx_n_n = np.zeros((2, 2, 1))\n",
    "    e = np.zeros((N, 1))\n",
    "    r = np.zeros((N, 1))\n",
    "\n",
    "    # Các biến lưu trữ\n",
    "    sum_term1 = np.zeros(p)\n",
    "    sum_term2 = np.zeros(p)\n",
    "    sum_term3 = np.zeros(p)\n",
    "    sigma2_hat_num = 0\n",
    "\n",
    "    # \n",
    "    for t in range(N):\n",
    "        # 1. Kalman filter\n",
    "        # Predict one-step-ahead state predictive density of x_{t}\n",
    "        x_predict = F @ x\n",
    "        V_predict = F @ V @ F.T + G @ G.T\n",
    "\n",
    "        # Compute forecast error and one-step-ahead predictive variance\n",
    "        e[t] = y[t] - (H @ x_predict).item()\n",
    "        r[t] = (H @ V_predict @ H.T).item()\n",
    "\n",
    "        # Kalman gain\n",
    "        K = V_predict @ H.T / r[t]\n",
    "\n",
    "        # Update current state and covariance\n",
    "        x = x_predict + K * e[t]\n",
    "        V = (np.eye(k) - K @ H) @ V_predict\n",
    "\n",
    "        sigma2_hat_num += (epsilon_n**2 * r_n_inv)[0, 0]\n",
    "\n",
    "        # 2. Kalman filter for gradient\n",
    "        dx_dtheta = F @ dx_n_n + dF_dtheta @ x\n",
    "\n",
    "        dF_dtheta_T = dF_dtheta.transpose(0, 2, 1)\n",
    "        dG_dtheta_T = dG_dtheta.transpose(0, 2, 1)\n",
    "        \n",
    "        term1_dV = F @ dV_n_n @ F.T\n",
    "        term2_dV = dF_dtheta @ V_n_n @ F.T\n",
    "        term3_dV = (F @ V_n_n) @ dF_dtheta_T\n",
    "        term4_dV = (dG_dtheta * sigma2) @ G.T\n",
    "        term5_dV = (G * sigma2) @ dG_dtheta_T\n",
    "        \n",
    "        dV_n_n_1 = term1_dV + term2_dV + term3_dV + term4_dV + term5_dV\n",
    "\n",
    "        d_epsilon_n = -H @ dx_n_n_1\n",
    "        d_r_n = H @ dV_n_n_1 @ H.T\n",
    "\n",
    "        r_n_inv_2 = r_n_inv**2\n",
    "        d_K_n = (dV_n_n_1 @ H.T * r_n_inv) - (V_n_n_1 @ H.T * r_n_inv_2 * d_r_n)\n",
    "\n",
    "        dx_n_n = dx_n_n_1 + K_n @ d_epsilon_n + d_K_n @ epsilon_n\n",
    "        \n",
    "        dV_n_n = dV_n_n_1 - (d_K_n @ H @ V_n_n_1) - (K_n @ H @ dV_n_n_1)\n",
    "        \n",
    "        # Cập nhật tổng\n",
    "        sum_term1 += (r_n_inv * d_r_n).reshape(p)\n",
    "        sum_term2 += (epsilon_n[0,0] * r_n_inv * d_epsilon_n).reshape(p)\n",
    "        sum_term3 += ((epsilon_n[0,0]**2 * r_n_inv_2) * d_r_n).reshape(p)\n",
    "\n",
    "    # === 3. Tính Gradient cuối cùng ===\n",
    "    sigma2_hat = np.sum(e**2 / r) / N\n",
    "    \n",
    "    grad = -0.5 * sum_term1 - (1/sigma2_hat) * sum_term2 + (1/(2*sigma2_hat)) * sum_term3\n",
    "    \n",
    "    return grad"
   ]
  },
  {
   "cell_type": "code",
   "execution_count": null,
   "metadata": {},
   "outputs": [
    {
     "data": {
      "text/plain": [
       "array([[[0., 0.],\n",
       "        [0., 0.],\n",
       "        [0., 0.]],\n",
       "\n",
       "       [[0., 0.],\n",
       "        [0., 0.],\n",
       "        [0., 0.]]])"
      ]
     },
     "execution_count": 39,
     "metadata": {},
     "output_type": "execute_result"
    }
   ],
   "source": [
    "\"\"\"\n",
    "Test the log-likelihood function\n",
    "\"\"\"\n",
    "\n",
    "theta_start = [0.1, 0.1]\n",
    "\n",
    "# Minimize negative log-likelihood\n",
    "result = minimize(obj_func_likelihood, theta_start, method='BFGS', jac=grad_obj_func_likelihood,\n",
    "                  options={'gtol': 1e-04, 'maxiter': 1000, 'disp': True})\n",
    "\n",
    "# Print results\n",
    "print(\"Estimated parameters:\", result.x)\n",
    "print(\"Negative log-likelihood:\", result.fun)"
   ]
  },
  {
   "cell_type": "code",
   "execution_count": 40,
   "metadata": {},
   "outputs": [
    {
     "data": {
      "text/plain": [
       "array([0., 0.])"
      ]
     },
     "execution_count": 40,
     "metadata": {},
     "output_type": "execute_result"
    }
   ],
   "source": [
    "np.zeros(2)"
   ]
  },
  {
   "cell_type": "code",
   "execution_count": 41,
   "metadata": {},
   "outputs": [
    {
     "ename": "TypeError",
     "evalue": "object of type 'int' has no len()",
     "output_type": "error",
     "traceback": [
      "\u001b[31m---------------------------------------------------------------------------\u001b[39m",
      "\u001b[31mTypeError\u001b[39m                                 Traceback (most recent call last)",
      "\u001b[36mCell\u001b[39m\u001b[36m \u001b[39m\u001b[32mIn[41]\u001b[39m\u001b[32m, line 1\u001b[39m\n\u001b[32m----> \u001b[39m\u001b[32m1\u001b[39m \u001b[38;5;28;43mlen\u001b[39;49m\u001b[43m(\u001b[49m\u001b[32;43m1\u001b[39;49m\u001b[43m)\u001b[49m\n",
      "\u001b[31mTypeError\u001b[39m: object of type 'int' has no len()"
     ]
    }
   ],
   "source": [
    "len(1)"
   ]
  }
 ],
 "metadata": {
  "kernelspec": {
   "display_name": "venv",
   "language": "python",
   "name": "python3"
  },
  "language_info": {
   "codemirror_mode": {
    "name": "ipython",
    "version": 3
   },
   "file_extension": ".py",
   "mimetype": "text/x-python",
   "name": "python",
   "nbconvert_exporter": "python",
   "pygments_lexer": "ipython3",
   "version": "3.11.9"
  }
 },
 "nbformat": 4,
 "nbformat_minor": 2
}
